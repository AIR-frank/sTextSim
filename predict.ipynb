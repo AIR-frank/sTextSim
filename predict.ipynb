{
 "cells": [
  {
   "cell_type": "markdown",
   "metadata": {},
   "source": [
    "### `SimCSE`预测\n",
    "- model: BERT/RoBERTa"
   ]
  },
  {
   "cell_type": "code",
   "execution_count": null,
   "metadata": {},
   "outputs": [],
   "source": [
    "import os\n",
    "os.environ[\"CUDA_VISIBLE_DEVICES\"] = \"4\"\n",
    "from main.predictors.cse_predictor import Predictor\n",
    "from transformers import AutoTokenizer"
   ]
  },
  {
   "cell_type": "code",
   "execution_count": null,
   "metadata": {},
   "outputs": [],
   "source": [
    "tokenizer = AutoTokenizer.from_pretrained('/home/lpc/models/bert-base-uncased')\n",
    "pred = Predictor(tokenizer=tokenizer,\n",
    "                  from_pretrained='/home/lpc/models/bert-base-uncased',\n",
    "                  max_seq_len=32,\n",
    "                  hard_negative_weight=0,\n",
    "                  batch_size=64,\n",
    "                  temp=0.05)"
   ]
  },
  {
   "cell_type": "code",
   "execution_count": null,
   "metadata": {},
   "outputs": [],
   "source": [
    "for output in pred.pred([['A boy looking at a computer screen.', 'A young man gazes at a computer monitor.'],\n",
    "                         ['A boy looking at a computer screen.', 'A boy staring at a computer monitor.'],\n",
    "                         ['Still refusing to answer my questions?', 'Refusing to answer my questions?'],\n",
    "                         ['Still refusing to answer my questions?', 'Still answering my questions?'],\n",
    "                         ['Three bottles are on a table.', 'Three bottles arranged on the table.'],\n",
    "                         ['Three bottles are on a table.', 'Eight bottles are on a table.']]):\n",
    "    print(output.logits * 0.05)"
   ]
  }
 ],
 "metadata": {
  "kernelspec": {
   "display_name": "cl",
   "language": "python",
   "name": "python3"
  },
  "language_info": {
   "codemirror_mode": {
    "name": "ipython",
    "version": 3
   },
   "file_extension": ".py",
   "mimetype": "text/x-python",
   "name": "python",
   "nbconvert_exporter": "python",
   "pygments_lexer": "ipython3",
   "version": "3.10.14"
  }
 },
 "nbformat": 4,
 "nbformat_minor": 2
}
