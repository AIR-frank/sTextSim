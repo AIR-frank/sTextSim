{
 "cells": [
  {
   "cell_type": "code",
   "execution_count": 10,
   "id": "4043db34",
   "metadata": {},
   "outputs": [],
   "source": [
    "\n",
    "sent1 = \"In some cases these statements are identifiable through the use of words such as ?€?anticipate,?€? ?€?believe,?€? ?€?estimate,?€? ?€?forecast,?€? ?€?guide,?€? ?€?expect,?€? ?€?intend,?€? ?€?plan,?€? ?€?project,?€? ?€?target,?€? ?€?can,?€? ?€?could,?€? ?€?may,?€? ?€?should,?€? ?€?will,?€? ?€?would,?€? and similar expressions.\""
   ]
  },
  {
   "cell_type": "code",
   "execution_count": 11,
   "id": "a25a403c",
   "metadata": {},
   "outputs": [],
   "source": [
    "import csv\n",
    "\n",
    "file_name = \"/root/code/sTextSim/data/FinSTS/test.csv\"\n",
    "\n",
    "\n",
    "result = []\n",
    "with open(file_name, encoding='utf-8') as f:\n",
    "    reader = csv.reader(f)\n",
    "    for line in reader:\n",
    "        if line[0] != sent1:\n",
    "            result.append(line)\n",
    "with open('test.csv', 'w', newline='') as csvfile:\n",
    "    writer = csv.writer(csvfile)\n",
    "    for row in result:\n",
    "        writer.writerow(row)\n"
   ]
  }
 ],
 "metadata": {
  "kernelspec": {
   "display_name": "stextsim",
   "language": "python",
   "name": "python3"
  },
  "language_info": {
   "codemirror_mode": {
    "name": "ipython",
    "version": 3
   },
   "file_extension": ".py",
   "mimetype": "text/x-python",
   "name": "python",
   "nbconvert_exporter": "python",
   "pygments_lexer": "ipython3",
   "version": "3.7.16"
  }
 },
 "nbformat": 4,
 "nbformat_minor": 5
}
